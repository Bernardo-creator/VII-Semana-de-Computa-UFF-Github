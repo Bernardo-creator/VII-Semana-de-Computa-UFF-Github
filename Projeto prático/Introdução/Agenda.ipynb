{
 "cells": [
  {
   "cell_type": "markdown",
   "metadata": {},
   "source": [
    "Implemente uma agenda de contatos em Python que pode ser feito em grupo de 2 a 5 pessoas para praticar o versionamento de código em equipe.\n",
    "\n",
    "Crie um repositório Git para o projeto e divida as tarefas entre os membros da equipe. Teste prático de como clonar o repositório, criar ramificações, realizar commits e mesclar as alterações. Também é importante definir um fluxo de trabalho claro, como quem será responsável por quais partes do código.\n",
    "\n",
    "Implementem uma agenda básica com as funcionalidade:\n",
    "\n",
    "- Adicionar contatos.\n",
    "- Listar contatos.\n",
    "- Buscar contatos.\n",
    "- Deletar contatos.\n",
    "- Menu iterativo das opções anteriores."
   ]
  },
  {
   "cell_type": "code",
   "execution_count": null,
   "metadata": {},
   "outputs": [
    {
     "name": "stdout",
     "output_type": "stream",
     "text": [
      "hello\n"
     ]
    }
   ],
   "source": [
    "def contatos():\n",
    "    contato = str(input())\n",
    "def listar_contatos(con):\n",
    "    print(con)\n",
    "def buscar_contato():\n",
    "    n = str(input())\n",
    "    for contato in contatos:\n",
    "        if (n == contato):\n",
    "            print(\"Sim\")\n",
    "        else:\n",
    "            print(\"Não\")\n",
    "def deletar_contato():\n",
    "    n = str(input())\n",
    "\n",
    "##\n",
    "    \n"
   ]
  }
 ],
 "metadata": {
  "kernelspec": {
   "display_name": "Python 3",
   "language": "python",
   "name": "python3"
  },
  "language_info": {
   "codemirror_mode": {
    "name": "ipython",
    "version": 3
   },
   "file_extension": ".py",
   "mimetype": "text/x-python",
   "name": "python",
   "nbconvert_exporter": "python",
   "pygments_lexer": "ipython3",
   "version": "3.11.4"
  }
 },
 "nbformat": 4,
 "nbformat_minor": 2
}
