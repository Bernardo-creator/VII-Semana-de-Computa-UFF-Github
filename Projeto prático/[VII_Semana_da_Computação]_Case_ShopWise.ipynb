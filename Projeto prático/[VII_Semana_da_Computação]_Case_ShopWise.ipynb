{
  "cells": [
    {
      "cell_type": "markdown",
      "metadata": {
        "id": "AWT_T2X9LYsA"
      },
      "source": [
        "# **Desenvolvimento de um Sistema de Análise de Dados para uma Startup de Comércio Eletrônico**\n",
        "\n",
        "**Narrativa:**\n",
        "\n",
        "<p align=\"justify\">&emsp;Você faz parte de uma empolgante startup de comércio eletrônico chamada \"ShopWise\". A empresa está empenhada em fornecer aos clientes a melhor experiência de compra online, oferecendo uma ampla variedade de produtos e personalização. A equipe de desenvolvimento do ShopWise reconheceu a importância da análise de dados para entender o comportamento dos clientes e melhorar a plataforma.</p>\n",
        "\n",
        "<br>\n",
        "\n",
        "**Contexto:**\n",
        "\n",
        "<p align=\"justify\">&emsp;A equipe de desenvolvimento deseja implementar um sistema de análise de dados baseado em Python e integrá-lo à plataforma web do ShopWise. Eles já coletaram uma grande quantidade de dados de compras, preferências de produtos, dados demográficos dos clientes e informações sobre produtos em seu banco de dados.</p>\n",
        "\n",
        "<br>\n",
        "\n",
        "\n",
        "\n",
        "## **Uma breve descrição dos três arquivos CSV gerados para análise no case:**\n",
        "\n",
        "### 1. Arquivo **\"produtos.csv\"**\n",
        "\n",
        "<p align=\"justify\">&emsp;Este arquivo contém informações sobre os produtos oferecidos pelo ShopWise. Cada linha representa um produto individual com as seguintes colunas:</p>\n",
        "\n",
        "<br>\n",
        "\n",
        "- **ID do Produto:** Um identificador único para o produto.\n",
        "\n",
        "- **Nome do Produto:** O nome do produto.\n",
        "\n",
        "- **Preço:** O preço do produto.\n",
        "\n",
        "<br>\n",
        "\n",
        "\n",
        "### 2. Arquivo **\"clientes.csv\"**\n",
        "\n",
        "<p align=\"justify\">&emsp;Este arquivo contém informações sobre os clientes que utilizam a plataforma ShopWise. Cada linha representa um cliente com as seguintes colunas:</p>\n",
        "\n",
        "<br>\n",
        "\n",
        "- **ID do Cliente:** Um identificador único para o cliente.\n",
        "\n",
        "- **Nome do Cliente:** O nome do cliente.\n",
        "\n",
        "- **Idade:** A idade do cliente.\n",
        "\n",
        "- **Gênero:** O gênero do cliente (Masculino, Feminino, Outro).\n",
        "\n",
        "<br>\n",
        "\n",
        "\n",
        "### 3. Arquivo **\"compras.csv\"**\n",
        "\n",
        "<p align=\"justify\">&emsp;Este arquivo contém informações sobre as compras realizadas pelos clientes no ShopWise. Cada linha representa uma compra com as seguintes colunas:</p>\n",
        "\n",
        "<br>\n",
        "\n",
        "- **ID da Compra:** Um identificador único para a compra.\n",
        "- **ID do Cliente:** O identificador único do cliente que fez a compra.\n",
        "- **ID do Produto:** O identificador único do produto comprado.\n",
        "- **Data da Compra:** A data em que a compra foi realizada.\n",
        "- **Valor da Compra:** O valor total da compra.\n",
        "\n",
        "<br>"
      ]
    },
    {
      "cell_type": "code",
      "execution_count": 1,
      "metadata": {
        "id": "w9aES7T5Lh25"
      },
      "outputs": [],
      "source": [
        "# !pip install pandas"
      ]
    },
    {
      "cell_type": "code",
      "execution_count": 2,
      "metadata": {
        "id": "VWapXwA7LYNH"
      },
      "outputs": [],
      "source": [
        "import random\n",
        "import pandas as pd\n",
        "\n",
        "# Gere dados de produtos\n",
        "produtos = []\n",
        "for i in range(100):\n",
        "    produto = {\n",
        "        \"ID do Produto\": f\"Produto-{i + 1}\",\n",
        "        \"Nome do Produto\": f\"Produto {i + 1}\",\n",
        "        \"Preço\": round(random.uniform(10, 1000), 2)\n",
        "    }\n",
        "    produtos.append(produto)\n",
        "\n",
        "# Gere dados de clientes\n",
        "clientes = []\n",
        "for i in range(500):\n",
        "    cliente = {\n",
        "        \"ID do Cliente\": f\"Cliente-{i + 1}\",\n",
        "        \"Nome do Cliente\": f\"Cliente {i + 1}\",\n",
        "        \"Idade\": random.randint(18, 65),\n",
        "        \"Gênero\": random.choice([\"Masculino\", \"Feminino\", \"Outro\"])\n",
        "    }\n",
        "    clientes.append(cliente)\n",
        "\n",
        "# Gere dados de compras\n",
        "compras = []\n",
        "for _ in range(5000):\n",
        "    cliente = random.choice(clientes)\n",
        "    produto = random.choice(produtos)\n",
        "    data_compra = f\"2023-{random.randint(1, 12)}-{random.randint(1, 28)}\"\n",
        "    valor_compra = round(random.uniform(10, 500), 2)\n",
        "    compras.append({\n",
        "        \"ID da Compra\": len(compras) + 1,\n",
        "        \"ID do Cliente\": cliente[\"ID do Cliente\"],\n",
        "        \"ID do Produto\": produto[\"ID do Produto\"],\n",
        "        \"Data da Compra\": data_compra,\n",
        "        \"Valor da Compra\": valor_compra\n",
        "    })\n",
        "\n",
        "# Introduzir uma incoerência: Uma compra é registrada para um cliente inexistente\n",
        "compra_ficticia = {\n",
        "    \"ID da Compra\": len(compras) + 1,\n",
        "    \"ID do Cliente\": \"Cliente-Inexistente\",\n",
        "    \"ID do Produto\": random.choice(produtos)[\"ID do Produto\"],\n",
        "    \"Data da Compra\": \"2023-01-01\",\n",
        "    \"Valor da Compra\": 100.0\n",
        "}\n",
        "compras.append(compra_ficticia)\n",
        "\n",
        "# Crie DataFrames com os dados\n",
        "df_produtos = pd.DataFrame(produtos)\n",
        "df_clientes = pd.DataFrame(clientes)\n",
        "df_compras = pd.DataFrame(compras)\n",
        "\n",
        "# Salvar os DataFrames em arquivos CSV\n",
        "df_produtos.to_csv('produtos.csv', index=False)\n",
        "df_clientes.to_csv('clientes.csv', index=False)\n",
        "df_compras.to_csv('compras.csv', index=False)\n"
      ]
    },
    {
      "cell_type": "markdown",
      "metadata": {
        "id": "kHBb8xmIWZLh"
      },
      "source": [
        "1. Coleta e Preparação de Dados\n",
        "\n",
        "Você precisa escrever um código Python para coletar, limpar e organizar os dados. Os dados incluem informações sobre produtos, histórico de compras, preferências de produtos e dados demográficos dos clientes.\n",
        "\n",
        "Pergunta 1: Quais são os principais passos que você seguirá para coletar e preparar os dados?\n",
        "\n",
        "2. Análise de Dados\n",
        "\n",
        "Agora que os dados estão preparados, você precisa realizar uma análise exploratória dos dados para entender melhor as tendências e padrões de compra dos clientes.\n",
        "\n",
        "Pergunta 2: Quais são as principais conclusões que você pode tirar da análise exploratória dos dados? Existem insights interessantes que podem ser usados para aprimorar a experiência de compra dos clientes?\n",
        "\n",
        "3. Desenvolvimento de um Dashboard Web\n",
        "\n",
        "Sua equipe deseja criar um dashboard web interativo para visualizar os insights derivados da análise de dados. O dashboard deve ser acessível aos gerentes de negócios e à equipe de marketing.\n",
        "\n",
        "Pergunta 3: Como você planeja desenvolver o dashboard web? Quais bibliotecas e ferramentas em Python você usará para criar visualizações interativas?\n",
        "\n",
        "4. Integração com a Plataforma Web\n",
        "\n",
        "Após a análise de dados, é crucial integrar as descobertas à plataforma web do ShopWise. Isso permitirá a personalização de recomendações de produtos e promoções específicas para os clientes.\n",
        "\n",
        "Pergunta 4: Como você planeja integrar as descobertas da análise de dados à plataforma web? Que desafios você prevê nesse processo?\n",
        "\n",
        "5. Avaliação do Impacto\n",
        "\n",
        "O último passo é avaliar o impacto das análises de dados na experiência do cliente e nas métricas de negócios, como taxas de conversão e satisfação do cliente.\n",
        "\n",
        "Pergunta 5: Que métricas você usaria para medir o impacto da análise de dados? Com base nos resultados, que recomendações ou ajustes você sugeriria para a equipe de negócios?"
      ]
    },
    {
      "cell_type": "markdown",
      "metadata": {
        "id": "ew1901RFpQz6"
      },
      "source": [
        "## **TESTANDO SE TODAS AS BIBLIOTECAS NECESSÁRIOS ESTÃO INSTALADAS**"
      ]
    },
    {
      "cell_type": "code",
      "execution_count": 3,
      "metadata": {
        "id": "FNUJm68npQCZ"
      },
      "outputs": [
        {
          "name": "stdout",
          "output_type": "stream",
          "text": [
            "As seguintes bibliotecas não estão instaladas:\n",
            "Flask\n"
          ]
        }
      ],
      "source": [
        "import importlib\n",
        "\n",
        "# Ler o arquivo requirements.txt\n",
        "with open('requirements.txt', 'r') as file:\n",
        "    libraries = file.read().splitlines()\n",
        "\n",
        "# Verificar se as bibliotecas estão instaladas\n",
        "missing_libraries = []\n",
        "for library in libraries:\n",
        "    try:\n",
        "        importlib.import_module(library)\n",
        "    except ImportError:\n",
        "        missing_libraries.append(library)\n",
        "\n",
        "if missing_libraries:\n",
        "    print(\"As seguintes bibliotecas não estão instaladas:\")\n",
        "    for library in missing_libraries:\n",
        "        print(library)\n",
        "else:\n",
        "    print(\"Todas as bibliotecas do requirements.txt estão instaladas.\")\n"
      ]
    },
    {
      "cell_type": "markdown",
      "metadata": {
        "id": "cQpxT9bJrP6B"
      },
      "source": [
        "<h1><b>Possível resposta Case<b></h1>"
      ]
    },
    {
      "cell_type": "markdown",
      "metadata": {
        "id": "hiv-fOLOpxeS"
      },
      "source": [
        "# **1. Coleta e Preparação de Dados**\n",
        "\n",
        "Você precisa escrever um código Python para coletar, limpar e organizar os dados. Os dados incluem informações sobre produtos, histórico de compras, preferências de produtos e dados demográficos dos clientes.\n",
        "\n",
        "**Pergunta 1:** Quais são os principais passos que você seguirá para coletar e preparar os dados?"
      ]
    },
    {
      "cell_type": "code",
      "execution_count": null,
      "metadata": {
        "colab": {
          "base_uri": "https://localhost:8080/"
        },
        "id": "h_H1sQ55WHKB",
        "outputId": "286bce60-e852-4f41-a266-7f110e56b6cf"
      },
      "outputs": [],
      "source": [
        "\n"
      ]
    },
    {
      "cell_type": "markdown",
      "metadata": {
        "id": "x13Km-xcrjD7"
      },
      "source": [
        "# **2. Análise de Dados**\n",
        "\n",
        "Agora que os dados estão preparados, você precisa realizar uma análise exploratória dos dados para entender melhor as tendências e padrões de compra dos clientes.\n",
        "\n",
        "**Pergunta 2:** Quais são as principais conclusões que você pode tirar da análise exploratória dos dados? Existem insights interessantes que podem ser usados para aprimorar a experiência de compra dos clientes?"
      ]
    },
    {
      "cell_type": "code",
      "execution_count": null,
      "metadata": {
        "colab": {
          "base_uri": "https://localhost:8080/",
          "height": 1000
        },
        "id": "E4FIWMfoWhjp",
        "outputId": "6a1b6e3d-6362-42a2-ec68-17586a6fc169"
      },
      "outputs": [],
      "source": []
    },
    {
      "cell_type": "markdown",
      "metadata": {
        "id": "izFVgseknGRx"
      },
      "source": [
        "## **3. Desenvolvimento de um Dashboard Web**\n",
        "\n",
        "Você foi encarregado de desenvolver um dashboard de análise de dados utilizando a biblioteca Dash em Python. O seu objetivo é criar uma interface interativa que permita aos usuários visualizarem o número de compras por gênero de clientes em um formato de gráfico de barras.\n",
        "\n",
        "**Questão 3:** Implemente a funcionalidade que lhe foi encarregada."
      ]
    },
    {
      "cell_type": "code",
      "execution_count": null,
      "metadata": {
        "id": "Q2n9NluX30VQ"
      },
      "outputs": [],
      "source": []
    },
    {
      "cell_type": "markdown",
      "metadata": {
        "id": "_XyRYWY5tHh5"
      },
      "source": [
        "## **4. Avaliação do Impacto**\n",
        "\n",
        "O último passo é avaliar o impacto das análises de dados na experiência do cliente e nas métricas de negócios, como taxas de conversão e satisfação do cliente.\n",
        "\n",
        "**Pergunta 5:** Que métricas você usaria para medir o impacto da análise de dados? Com base nos resultados, que recomendações ou ajustes você sugeriria para a equipe de negócios?"
      ]
    },
    {
      "cell_type": "code",
      "execution_count": null,
      "metadata": {
        "colab": {
          "base_uri": "https://localhost:8080/"
        },
        "id": "OvtiWMUXuCSy",
        "outputId": "9ba2bdf5-1516-4bf2-dc88-d101d4fce506"
      },
      "outputs": [],
      "source": []
    }
  ],
  "metadata": {
    "colab": {
      "provenance": []
    },
    "kernelspec": {
      "display_name": "Python 3",
      "name": "python3"
    },
    "language_info": {
      "codemirror_mode": {
        "name": "ipython",
        "version": 3
      },
      "file_extension": ".py",
      "mimetype": "text/x-python",
      "name": "python",
      "nbconvert_exporter": "python",
      "pygments_lexer": "ipython3",
      "version": "3.11.4"
    }
  },
  "nbformat": 4,
  "nbformat_minor": 0
}
